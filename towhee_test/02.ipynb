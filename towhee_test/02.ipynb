{
 "cells": [
  {
   "cell_type": "markdown",
   "metadata": {},
   "source": [
    "## 图像embedding"
   ]
  },
  {
   "cell_type": "code",
   "execution_count": 12,
   "metadata": {},
   "outputs": [],
   "source": [
    "from towhee import AutoPipes ,pipe\n",
    "\n",
    "# get the built-in text_image_embedding pipeline\n",
    "image_embedding = AutoPipes.pipeline('text_image_embedding')\n",
    "\n",
    "# generate image embedding\n",
    "embedding = image_embedding('./xx1.jpg').get()\n",
    "\n",
    "# batch generate image embeddings\n",
    "embeddings = image_embedding.batch(['./xx1.jpg', './xx2.jpg'])\n",
    "embeddings = [e.get() for e in embeddings]\n"
   ]
  },
  {
   "cell_type": "markdown",
   "metadata": {},
   "source": [
    "## 文字embedding"
   ]
  },
  {
   "cell_type": "code",
   "execution_count": 6,
   "metadata": {},
   "outputs": [],
   "source": [
    "from towhee import AutoPipes, AutoConfig\n",
    "\n",
    "# set TextImageEmbeddingConfig for the pipeline\n",
    "text_conf = AutoConfig.load_config('text_image_embedding')\n",
    "text_conf.modality = 'text'\n",
    "text_conf.model='clip_vit_base_patch16'\n",
    "text_pipe = AutoPipes.pipeline('text_image_embedding', text_conf)\n",
    "\n",
    "# generate image embedding\n",
    "embedding = text_pipe('A running dog.').get()\n",
    "\n",
    "# batch generate image embeddings\n",
    "embeddings = text_pipe.batch(['A running dog.', 'Puppy Corgi.'])\n",
    "embeddings = [e.get() for e in embeddings]\n",
    "#dir(text_conf)"
   ]
  },
  {
   "cell_type": "markdown",
   "metadata": {},
   "source": [
    "## 建立milvus的collection"
   ]
  },
  {
   "cell_type": "code",
   "execution_count": 7,
   "metadata": {},
   "outputs": [],
   "source": [
    "from pymilvus import connections, FieldSchema, CollectionSchema, DataType, Collection, utility\n",
    "\n",
    "def create_milvus_collection(collection_name, dim):\n",
    "    connections.connect(host='127.0.0.1', port='19530')\n",
    "    \n",
    "    if utility.has_collection(collection_name):\n",
    "        utility.drop_collection(collection_name)\n",
    "    \n",
    "    fields = [\n",
    "    FieldSchema(name='id', dtype=DataType.INT64, descrition='ids', is_primary=True, auto_id=True), #id自动比较方便\n",
    "    FieldSchema(name='url', dtype=DataType.VARCHAR, descrition='urls',max_length=512),\n",
    "    FieldSchema(name='embedding', dtype=DataType.FLOAT_VECTOR, descrition='embedding vectors', dim=dim)\n",
    "\n",
    "    ]\n",
    "    schema = CollectionSchema(fields=fields, description='text image search')\n",
    "    collection = Collection(name=collection_name, schema=schema)\n",
    "\n",
    "    # create IVF_FLAT index for collection.\n",
    "    index_params = {\n",
    "        'metric_type':'L2',\n",
    "        'index_type':\"IVF_FLAT\",\n",
    "        'params':{\"nlist\":512}\n",
    "    }\n",
    "    collection.create_index(field_name=\"embedding\", index_params=index_params)\n",
    "    return collection\n",
    "\n",
    "collection = create_milvus_collection('text_image_search_lx', 512)"
   ]
  },
  {
   "cell_type": "markdown",
   "metadata": {},
   "source": [
    "## 往数据库加入图片项，包括embedding和url等"
   ]
  },
  {
   "cell_type": "code",
   "execution_count": 8,
   "metadata": {},
   "outputs": [
    {
     "data": {
      "text/plain": [
       "<towhee.runtime.data_queue.DataQueue at 0x244ab34a4b0>"
      ]
     },
     "execution_count": 8,
     "metadata": {},
     "output_type": "execute_result"
    }
   ],
   "source": [
    "from towhee import AutoPipes, AutoConfig\n",
    "\n",
    "# set MilvusInsertConfig for the built-in insert_milvus pipeline\n",
    "insert_conf = AutoConfig.load_config('insert_milvus')\n",
    "insert_conf.collection_name = 'text_image_search_lx'\n",
    "\n",
    "insert_pipe = AutoPipes.pipeline('insert_milvus', insert_conf)\n",
    "\n",
    "# generate embedding\n",
    "embedding = image_embedding('./xx1.jpg').get()[0]\n",
    "\n",
    "# insert text and embedding into Milvus\n",
    "insert_pipe(['./xx1.jpg' ,embedding]) # 注意顺序不能错"
   ]
  },
  {
   "cell_type": "code",
   "execution_count": 9,
   "metadata": {},
   "outputs": [
    {
     "data": {
      "text/plain": [
       "<towhee.runtime.data_queue.DataQueue at 0x244ab3496d0>"
      ]
     },
     "execution_count": 9,
     "metadata": {},
     "output_type": "execute_result"
    }
   ],
   "source": [
    "embedding = image_embedding('./xx2.jpg').get()[0]\n",
    "\n",
    "# insert text and embedding into Milvus\n",
    "insert_pipe(['./xx2.jpg' ,embedding]) # 注意顺序不能错"
   ]
  },
  {
   "cell_type": "markdown",
   "metadata": {},
   "source": [
    "## 建立搜索pipeline"
   ]
  },
  {
   "cell_type": "code",
   "execution_count": 17,
   "metadata": {},
   "outputs": [
    {
     "data": {
      "text/plain": [
       "{'rows': [[457091581108815342, 1.4777711629867554, './xx1.jpg'],\n",
       "  [457091581108815344, 1.6302437782287598, './xx2.jpg']]}"
      ]
     },
     "execution_count": 17,
     "metadata": {},
     "output_type": "execute_result"
    }
   ],
   "source": [
    "from towhee import AutoPipes, AutoConfig\n",
    "\n",
    "# set MilvusSearchConfig for the built-in search_milvus pipeline\n",
    "search_conf = AutoConfig.load_config('search_milvus')\n",
    "\n",
    "search_conf.collection_name = 'text_image_search_lx'\n",
    "search_conf.search_params = {'output_fields': ['url']}\n",
    "\n",
    "search_pipe = AutoPipes.pipeline('search_milvus', search_conf)\n",
    "\n",
    "# generate embedding\n",
    "embedding = text_pipe('stair').get()[0]\n",
    "\n",
    "# search embedding and get results in Milvus\n",
    "search_pipe(embedding).get_dict()"
   ]
  }
 ],
 "metadata": {
  "kernelspec": {
   "display_name": ".venv",
   "language": "python",
   "name": "python3"
  },
  "language_info": {
   "codemirror_mode": {
    "name": "ipython",
    "version": 3
   },
   "file_extension": ".py",
   "mimetype": "text/x-python",
   "name": "python",
   "nbconvert_exporter": "python",
   "pygments_lexer": "ipython3",
   "version": "3.12.8"
  }
 },
 "nbformat": 4,
 "nbformat_minor": 2
}
