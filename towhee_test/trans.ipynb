{
 "cells": [
  {
   "cell_type": "code",
   "execution_count": null,
   "metadata": {},
   "outputs": [
    {
     "data": {
      "text/html": [
       "<table style=\"border-collapse: collapse;\"><tr><th style=\"text-align: center; font-size: 130%; border: none;\">text</th> <th style=\"text-align: center; font-size: 130%; border: none;\">translation</th></tr>\n",
       "<tr><td style=\"text-align: center; vertical-align: top; border-right: solid 1px #D3D3D3; border-left: solid 1px #D3D3D3; \">hello, world.</td><td style=\"text-align: center; vertical-align: top; border-right: solid 1px #D3D3D3; border-left: solid 1px #D3D3D3; \">哈罗,世界。</td></tr></table>"
      ],
      "text/plain": [
       "<IPython.core.display.HTML object>"
      ]
     },
     "metadata": {},
     "output_type": "display_data"
    }
   ],
   "source": [
    "from towhee import pipe, ops, DataCollection\n",
    "\n",
    "p = (\n",
    "    pipe.input('text')\n",
    "    .map('text', 'translation', ops.machine_translation.opus_mt(model_name='opus-mt-en-zh')) \n",
    "    .output('text', 'translation')\n",
    ")\n",
    "\n",
    "DataCollection(p('hello, world.')).show()"
   ]
  },
  {
   "cell_type": "code",
   "execution_count": null,
   "metadata": {},
   "outputs": [
    {
     "data": {
      "text/html": [
       "<table style=\"border-collapse: collapse;\"><tr><th style=\"text-align: center; font-size: 130%; border: none;\">text</th> <th style=\"text-align: center; font-size: 130%; border: none;\">translation</th></tr>\n",
       "<tr><td style=\"text-align: center; vertical-align: top; border-right: solid 1px #D3D3D3; border-left: solid 1px #D3D3D3; \"> \n",
       "珠江两岸璀璨的灯光不仅照亮了夜晚，也象征着人类文明与自然环境的和谐共存。\n",
       "描绘珠江上五彩斑斓的灯光倒映在水面上的景象，像一幅流动的画卷。\n",
       "想象这些灯光背后的故事——高楼大厦里人们的生活、桥上的车辆川流不息等。\n",
       "表达对这种美好景象的喜爱，同时思考如何保护...</td><td style=\"text-align: center; vertical-align: top; border-right: solid 1px #D3D3D3; border-left: solid 1px #D3D3D3; \">Imagine the story behind the lights – the lives of the people in the towers, the cars on the bridges, etc. – and the love for th...</td></tr></table>"
      ],
      "text/plain": [
       "<IPython.core.display.HTML object>"
      ]
     },
     "metadata": {},
     "output_type": "display_data"
    }
   ],
   "source": [
    "from towhee import pipe, ops, DataCollection\n",
    "\n",
    "p = (\n",
    "    pipe.input('text')\n",
    "    .map('text', 'translation', ops.machine_translation.opus_mt(model_name='opus-mt-zh-en')) \n",
    "    .output('text', 'translation')\n",
    ")\n"
   ]
  },
  {
   "cell_type": "code",
   "execution_count": null,
   "metadata": {},
   "outputs": [
    {
     "data": {
      "text/html": [
       "<table style=\"border-collapse: collapse;\"><tr><th style=\"text-align: center; font-size: 130%; border: none;\">text</th> <th style=\"text-align: center; font-size: 130%; border: none;\">translation</th></tr>\n",
       "<tr><td style=\"text-align: center; vertical-align: top; border-right: solid 1px #D3D3D3; border-left: solid 1px #D3D3D3; \"> \n",
       "珠江两岸璀璨的灯光不仅照亮了夜晚，也象征着人类文明与自然环境的和谐共存。\n",
       "描绘珠江上五彩斑斓的灯光倒映在水面上的景象，像一幅流动的画卷。\n",
       "想象这些灯光背后的故事——高楼大厦里人们的生活、桥上的车辆川流不息等。\n",
       "表达对这种美好景象的喜爱，同时思考如何保护...</td><td style=\"text-align: center; vertical-align: top; border-right: solid 1px #D3D3D3; border-left: solid 1px #D3D3D3; \">Imagine the story behind the lights – the lives of the people in the towers, the cars on the bridges, etc. – and the love for th...</td></tr></table>"
      ],
      "text/plain": [
       "<IPython.core.display.HTML object>"
      ]
     },
     "metadata": {},
     "output_type": "display_data"
    }
   ],
   "source": [
    "txt=\"\"\" \n",
    "珠江两岸璀璨的灯光不仅照亮了夜晚，也象征着人类文明与自然环境的和谐共存。\n",
    "描绘珠江上五彩斑斓的灯光倒映在水面上的景象，像一幅流动的画卷。\n",
    "想象这些灯光背后的故事——高楼大厦里人们的生活、桥上的车辆川流不息等。\n",
    "表达对这种美好景象的喜爱，同时思考如何保护珠江的生态环境，让这份美丽延续下去。\n",
    "\n",
    "\n",
    "\"\"\"\n",
    "DataCollection(p(txt)).show()"
   ]
  },
  {
   "cell_type": "code",
   "execution_count": 11,
   "metadata": {},
   "outputs": [
    {
     "data": {
      "text/plain": [
       "'Imagine the story behind the lights – the lives of the people in the towers, the cars on the bridges, etc. – and the love for this beautiful vision, while thinking about how to preserve its ecological environment and keep it alive.'"
      ]
     },
     "execution_count": 11,
     "metadata": {},
     "output_type": "execute_result"
    }
   ],
   "source": [
    "p(txt).get()[1]"
   ]
  }
 ],
 "metadata": {
  "kernelspec": {
   "display_name": ".venv",
   "language": "python",
   "name": "python3"
  },
  "language_info": {
   "codemirror_mode": {
    "name": "ipython",
    "version": 3
   },
   "file_extension": ".py",
   "mimetype": "text/x-python",
   "name": "python",
   "nbconvert_exporter": "python",
   "pygments_lexer": "ipython3",
   "version": "3.12.1"
  }
 },
 "nbformat": 4,
 "nbformat_minor": 2
}
