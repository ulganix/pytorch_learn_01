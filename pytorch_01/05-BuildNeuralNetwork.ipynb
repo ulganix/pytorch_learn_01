{
 "cells": [
  {
   "cell_type": "markdown",
   "metadata": {},
   "source": [
    "# Build the Neural Network  构建神经网络"
   ]
  },
  {
   "cell_type": "code",
   "execution_count": 1,
   "metadata": {},
   "outputs": [],
   "source": [
    "import os\n",
    "import torch\n",
    "from torch import nn\n",
    "from torch.utils.data import DataLoader\n",
    "from torchvision import datasets, transforms"
   ]
  },
  {
   "cell_type": "markdown",
   "metadata": {},
   "source": []
  },
  {
   "cell_type": "code",
   "execution_count": 2,
   "metadata": {},
   "outputs": [
    {
     "name": "stdout",
     "output_type": "stream",
     "text": [
      "Using cuda device\n"
     ]
    },
    {
     "data": {
      "text/plain": [
       "'cuda'"
      ]
     },
     "execution_count": 2,
     "metadata": {},
     "output_type": "execute_result"
    }
   ],
   "source": [
    "device = torch.accelerator.current_accelerator().type if torch.accelerator.is_available() else \"cpu\"\n",
    "print(f\"Using {device} device\")\n",
    "device"
   ]
  },
  {
   "cell_type": "markdown",
   "metadata": {},
   "source": [
    "## Define the Class  定义类\n",
    "We define our neural network by subclassing nn.Module, and initialize the neural network layers in __init__. Every nn.Module subclass implements the operations on input data in the forward method.\n",
    "\n",
    "我们通过子类化 nn 来定义我们的神经网络 。模块 ，并在 __init__ 中初始化神经网络层。每 nn.Module 子类实现了 forward 方法中对 input 数据的作。"
   ]
  },
  {
   "cell_type": "code",
   "execution_count": 3,
   "metadata": {},
   "outputs": [],
   "source": [
    "class NeuralNetwork(nn.Module):\n",
    "    def __init__(self):\n",
    "        super().__init__()\n",
    "        self.flatten = nn.Flatten()\n",
    "        self.linear_relu_stack = nn.Sequential(\n",
    "            nn.Linear(28*28, 512),\n",
    "            nn.ReLU(),\n",
    "            nn.Linear(512, 512),\n",
    "            nn.ReLU(),\n",
    "            nn.Linear(512, 10),\n",
    "        )\n",
    "\n",
    "    def forward(self, x):\n",
    "        x = self.flatten(x)\n",
    "        logits = self.linear_relu_stack(x)\n",
    "        return logits"
   ]
  },
  {
   "cell_type": "markdown",
   "metadata": {},
   "source": [
    "我们创建一个 NeuralNetwork 的实例，将其移动到设备中，并打印其结构。"
   ]
  },
  {
   "cell_type": "code",
   "execution_count": 4,
   "metadata": {},
   "outputs": [
    {
     "name": "stdout",
     "output_type": "stream",
     "text": [
      "NeuralNetwork(\n",
      "  (flatten): Flatten(start_dim=1, end_dim=-1)\n",
      "  (linear_relu_stack): Sequential(\n",
      "    (0): Linear(in_features=784, out_features=512, bias=True)\n",
      "    (1): ReLU()\n",
      "    (2): Linear(in_features=512, out_features=512, bias=True)\n",
      "    (3): ReLU()\n",
      "    (4): Linear(in_features=512, out_features=10, bias=True)\n",
      "  )\n",
      ")\n"
     ]
    }
   ],
   "source": [
    "model = NeuralNetwork().to(device)\n",
    "print(model)"
   ]
  },
  {
   "cell_type": "markdown",
   "metadata": {},
   "source": [
    "要使用该模型，我们将输入数据传递给它。这将执行模型的 forward 以及一些后台操作 。不要直接调用 model.forward（）！"
   ]
  },
  {
   "cell_type": "markdown",
   "metadata": {},
   "source": [
    "在输入上调用模型将返回一个二维张量，其中 dim=0 对应于每个类的 10 个原始预测值的每个输出，dim=1 对应于每个输出的单个值。我们通过将预测概率传递给 nn.Softmax 模块。"
   ]
  },
  {
   "cell_type": "code",
   "execution_count": 9,
   "metadata": {},
   "outputs": [
    {
     "data": {
      "text/plain": [
       "tensor([[ 0.0058, -0.0839,  0.0674, -0.0426, -0.0876, -0.0096,  0.0083,  0.0311,\n",
       "          0.0734, -0.0321]], device='cuda:0', grad_fn=<AddmmBackward0>)"
      ]
     },
     "execution_count": 9,
     "metadata": {},
     "output_type": "execute_result"
    }
   ],
   "source": [
    "X = torch.rand(1, 28, 28, device=device)\n",
    "logits = model(X)\n",
    "logits.shape\n",
    "logits"
   ]
  },
  {
   "cell_type": "markdown",
   "metadata": {},
   "source": [
    "果然.logits里面有负值，通过softmax指数化，全部变成正数的0~1之间的概率分布。"
   ]
  },
  {
   "cell_type": "code",
   "execution_count": null,
   "metadata": {},
   "outputs": [
    {
     "data": {
      "text/plain": [
       "tensor([[0.0988, 0.0954, 0.1052, 0.0965, 0.0952, 0.1025, 0.1012, 0.1014, 0.1042,\n",
       "         0.0996]], device='cuda:0', grad_fn=<SoftmaxBackward0>)"
      ]
     },
     "execution_count": 7,
     "metadata": {},
     "output_type": "execute_result"
    }
   ],
   "source": [
    "pred_probab = nn.Softmax(dim=1)(logits) # dim=1 表示在类别维度上计算 Softmax\n",
    "pred_probab"
   ]
  },
  {
   "cell_type": "markdown",
   "metadata": {},
   "source": [
    "在 PyTorch 中，nn.Softmax 是一个用于计算 Softmax 函数 的模块。Softmax 函数通常用于多分类任务中，将模型的原始输出（logits）转换为概率分布。\n",
    "\n",
    "  是指数函数，用于将 logits 转换为正数。\n",
    "分母是对所有类别的指数值求和，确保输出是一个概率分布（即所有值的和为 1）。\n",
    "Softmax 的作用是将输入的 logits 转换为每个类别的概率值，便于理解和解释。\n",
    "\n"
   ]
  },
  {
   "cell_type": "code",
   "execution_count": 13,
   "metadata": {},
   "outputs": [
    {
     "name": "stdout",
     "output_type": "stream",
     "text": [
      "Predicted class预测的类别: 2\n"
     ]
    }
   ],
   "source": [
    "y_pred = pred_probab.argmax(1)\n",
    "# pred_probab是相似度的概率，y_pred就是最大的那个index，但仍是tensor的数据结构\n",
    "print(f\"Predicted class预测的类别: {y_pred.item()}\")"
   ]
  },
  {
   "cell_type": "markdown",
   "metadata": {},
   "source": [
    "### 关于softmax\n"
   ]
  },
  {
   "cell_type": "markdown",
   "metadata": {},
   "source": [
    "参数说明\n",
    "- dim：指定在哪个维度上计算 Softmax。通常设置为 dim=1，表示在类别维度上计算（即对每个样本的 logits 计算 Softmax）。\n",
    "- dtype（可选）：指定输出的数据类型。\n",
    "\n",
    "注意事项\n",
    "1. 与 nn.CrossEntropyLoss 的关系：\n",
    "\n",
    "在分类任务中，通常不需要显式地使用 nn.Softmax，因为 nn.CrossEntropyLoss 内部已经包含了 Softmax 操作。\n",
    "如果你同时使用了 nn.Softmax 和 nn.CrossEntropyLoss，会导致双重 Softmax，结果会不正确。\n",
    "\n",
    "2. 数值稳定性：\n",
    "\n",
    "直接计算 Softmax 可能会导致数值溢出（尤其是当 logits 的值较大时）。PyTorch 的实现已经考虑了数值稳定性问题，但如果你手动实现 Softmax，可以使用 log_softmax 来提高数值稳定性。"
   ]
  },
  {
   "cell_type": "code",
   "execution_count": 10,
   "metadata": {},
   "outputs": [
    {
     "name": "stdout",
     "output_type": "stream",
     "text": [
      "tensor([[0.5200, 0.1913, 0.0778, 0.1160, 0.0950],\n",
      "        [0.1297, 0.5812, 0.1062, 0.0961, 0.0869],\n",
      "        [0.0880, 0.0973, 0.1075, 0.5884, 0.1188]])\n"
     ]
    }
   ],
   "source": [
    "import torch\n",
    "import torch.nn as nn\n",
    "\n",
    "# 定义 Softmax 层\n",
    "softmax = nn.Softmax(dim=1)  # dim=1 表示在类别维度上计算 Softmax\n",
    "\n",
    "# 输入 logits（假设有 3 个样本，每个样本有 5 个类别）\n",
    "logits = torch.tensor([[2.0, 1.0, 0.1, 0.5, 0.3],\n",
    "                       [0.5, 2.0, 0.3, 0.2, 0.1],\n",
    "                       [0.1, 0.2, 0.3, 2.0, 0.4]])\n",
    "\n",
    "# 计算 Softmax\n",
    "probabilities = softmax(logits)\n",
    "\n",
    "print(probabilities)\n"
   ]
  },
  {
   "cell_type": "markdown",
   "metadata": {},
   "source": [
    "### argmax(1)是什么意思"
   ]
  },
  {
   "cell_type": "markdown",
   "metadata": {},
   "source": [
    "在 PyTorch 中，argmax(dim=1) 是一个常用的操作，用于沿着指定的维度（这里是 dim=1）找到张量中最大值的索引。它通常用于分类任务中，用来确定模型预测的类别。\n",
    "\n",
    "argmax 的作用\n",
    "argmax 的全称是 \"argument of the maximum\"，即返回张量中最大值所在的索引位置。\n",
    "\n",
    "**argmax就是取得的概率中最大的一个的index，**"
   ]
  },
  {
   "cell_type": "code",
   "execution_count": null,
   "metadata": {},
   "outputs": [],
   "source": []
  }
 ],
 "metadata": {
  "kernelspec": {
   "display_name": ".venv",
   "language": "python",
   "name": "python3"
  },
  "language_info": {
   "codemirror_mode": {
    "name": "ipython",
    "version": 3
   },
   "file_extension": ".py",
   "mimetype": "text/x-python",
   "name": "python",
   "nbconvert_exporter": "python",
   "pygments_lexer": "ipython3",
   "version": "3.12.1"
  }
 },
 "nbformat": 4,
 "nbformat_minor": 2
}
